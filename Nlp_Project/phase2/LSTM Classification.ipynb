{
  "cells": [
    {
      "cell_type": "markdown",
      "metadata": {},
      "source": [
        "## Task 1 – Text Classification using LSTM"
      ]
    },
    {
      "cell_type": "markdown",
      "metadata": {},
      "source": [
        "### Import Required Libraries\n",
        "\n",
        "This cell imports the necessary libraries:\n",
        "- `TensorFlow` and `Keras` for building the LSTM model\n",
        "- `pandas` and `numpy` for data manipulation\n",
        "- `sklearn` for data splitting and evaluation\n"
      ]
    },
    {
      "cell_type": "code",
      "execution_count": null,
      "metadata": {
        "id": "iuFoxNnBswUl"
      },
      "outputs": [],
      "source": [
        "import re\n",
        "import numpy as np\n",
        "import pandas as pd\n",
        "import tensorflow as tf\n",
        "from tensorflow.keras.preprocessing.text import Tokenizer\n",
        "from tensorflow.keras.preprocessing.sequence import pad_sequences\n",
        "from tensorflow.keras.models import Sequential\n",
        "from tensorflow.keras.layers import Embedding, LSTM, Dense, Dropout\n",
        "from sklearn.model_selection import train_test_split\n",
        "from sklearn.metrics import classification_report\n"
      ]
    },
    {
      "cell_type": "markdown",
      "metadata": {},
      "source": [
        "### Upload and Load Dataset\n",
        "\n",
        "This block uploads a CSV dataset and stores it into a DataFrame.\n",
        "We create a `clean_text` column as a placeholder for tokenized input.\n"
      ]
    },
    {
      "cell_type": "code",
      "execution_count": null,
      "metadata": {
        "colab": {
          "base_uri": "https://localhost:8080/",
          "height": 71
        },
        "id": "Icplp5H-sy-9",
        "outputId": "403b4ce2-0b98-4784-a08b-9e705604817d"
      },
      "outputs": [
        {
          "data": {
            "text/html": [
              "\n",
              "     <input type=\"file\" id=\"files-588f1ba0-700b-4e65-b752-25eb2198515e\" name=\"files[]\" multiple disabled\n",
              "        style=\"border:none\" />\n",
              "     <output id=\"result-588f1ba0-700b-4e65-b752-25eb2198515e\">\n",
              "      Upload widget is only available when the cell has been executed in the\n",
              "      current browser session. Please rerun this cell to enable.\n",
              "      </output>\n",
              "      <script>// Copyright 2017 Google LLC\n",
              "//\n",
              "// Licensed under the Apache License, Version 2.0 (the \"License\");\n",
              "// you may not use this file except in compliance with the License.\n",
              "// You may obtain a copy of the License at\n",
              "//\n",
              "//      http://www.apache.org/licenses/LICENSE-2.0\n",
              "//\n",
              "// Unless required by applicable law or agreed to in writing, software\n",
              "// distributed under the License is distributed on an \"AS IS\" BASIS,\n",
              "// WITHOUT WARRANTIES OR CONDITIONS OF ANY KIND, either express or implied.\n",
              "// See the License for the specific language governing permissions and\n",
              "// limitations under the License.\n",
              "\n",
              "/**\n",
              " * @fileoverview Helpers for google.colab Python module.\n",
              " */\n",
              "(function(scope) {\n",
              "function span(text, styleAttributes = {}) {\n",
              "  const element = document.createElement('span');\n",
              "  element.textContent = text;\n",
              "  for (const key of Object.keys(styleAttributes)) {\n",
              "    element.style[key] = styleAttributes[key];\n",
              "  }\n",
              "  return element;\n",
              "}\n",
              "\n",
              "// Max number of bytes which will be uploaded at a time.\n",
              "const MAX_PAYLOAD_SIZE = 100 * 1024;\n",
              "\n",
              "function _uploadFiles(inputId, outputId) {\n",
              "  const steps = uploadFilesStep(inputId, outputId);\n",
              "  const outputElement = document.getElementById(outputId);\n",
              "  // Cache steps on the outputElement to make it available for the next call\n",
              "  // to uploadFilesContinue from Python.\n",
              "  outputElement.steps = steps;\n",
              "\n",
              "  return _uploadFilesContinue(outputId);\n",
              "}\n",
              "\n",
              "// This is roughly an async generator (not supported in the browser yet),\n",
              "// where there are multiple asynchronous steps and the Python side is going\n",
              "// to poll for completion of each step.\n",
              "// This uses a Promise to block the python side on completion of each step,\n",
              "// then passes the result of the previous step as the input to the next step.\n",
              "function _uploadFilesContinue(outputId) {\n",
              "  const outputElement = document.getElementById(outputId);\n",
              "  const steps = outputElement.steps;\n",
              "\n",
              "  const next = steps.next(outputElement.lastPromiseValue);\n",
              "  return Promise.resolve(next.value.promise).then((value) => {\n",
              "    // Cache the last promise value to make it available to the next\n",
              "    // step of the generator.\n",
              "    outputElement.lastPromiseValue = value;\n",
              "    return next.value.response;\n",
              "  });\n",
              "}\n",
              "\n",
              "/**\n",
              " * Generator function which is called between each async step of the upload\n",
              " * process.\n",
              " * @param {string} inputId Element ID of the input file picker element.\n",
              " * @param {string} outputId Element ID of the output display.\n",
              " * @return {!Iterable<!Object>} Iterable of next steps.\n",
              " */\n",
              "function* uploadFilesStep(inputId, outputId) {\n",
              "  const inputElement = document.getElementById(inputId);\n",
              "  inputElement.disabled = false;\n",
              "\n",
              "  const outputElement = document.getElementById(outputId);\n",
              "  outputElement.innerHTML = '';\n",
              "\n",
              "  const pickedPromise = new Promise((resolve) => {\n",
              "    inputElement.addEventListener('change', (e) => {\n",
              "      resolve(e.target.files);\n",
              "    });\n",
              "  });\n",
              "\n",
              "  const cancel = document.createElement('button');\n",
              "  inputElement.parentElement.appendChild(cancel);\n",
              "  cancel.textContent = 'Cancel upload';\n",
              "  const cancelPromise = new Promise((resolve) => {\n",
              "    cancel.onclick = () => {\n",
              "      resolve(null);\n",
              "    };\n",
              "  });\n",
              "\n",
              "  // Wait for the user to pick the files.\n",
              "  const files = yield {\n",
              "    promise: Promise.race([pickedPromise, cancelPromise]),\n",
              "    response: {\n",
              "      action: 'starting',\n",
              "    }\n",
              "  };\n",
              "\n",
              "  cancel.remove();\n",
              "\n",
              "  // Disable the input element since further picks are not allowed.\n",
              "  inputElement.disabled = true;\n",
              "\n",
              "  if (!files) {\n",
              "    return {\n",
              "      response: {\n",
              "        action: 'complete',\n",
              "      }\n",
              "    };\n",
              "  }\n",
              "\n",
              "  for (const file of files) {\n",
              "    const li = document.createElement('li');\n",
              "    li.append(span(file.name, {fontWeight: 'bold'}));\n",
              "    li.append(span(\n",
              "        `(${file.type || 'n/a'}) - ${file.size} bytes, ` +\n",
              "        `last modified: ${\n",
              "            file.lastModifiedDate ? file.lastModifiedDate.toLocaleDateString() :\n",
              "                                    'n/a'} - `));\n",
              "    const percent = span('0% done');\n",
              "    li.appendChild(percent);\n",
              "\n",
              "    outputElement.appendChild(li);\n",
              "\n",
              "    const fileDataPromise = new Promise((resolve) => {\n",
              "      const reader = new FileReader();\n",
              "      reader.onload = (e) => {\n",
              "        resolve(e.target.result);\n",
              "      };\n",
              "      reader.readAsArrayBuffer(file);\n",
              "    });\n",
              "    // Wait for the data to be ready.\n",
              "    let fileData = yield {\n",
              "      promise: fileDataPromise,\n",
              "      response: {\n",
              "        action: 'continue',\n",
              "      }\n",
              "    };\n",
              "\n",
              "    // Use a chunked sending to avoid message size limits. See b/62115660.\n",
              "    let position = 0;\n",
              "    do {\n",
              "      const length = Math.min(fileData.byteLength - position, MAX_PAYLOAD_SIZE);\n",
              "      const chunk = new Uint8Array(fileData, position, length);\n",
              "      position += length;\n",
              "\n",
              "      const base64 = btoa(String.fromCharCode.apply(null, chunk));\n",
              "      yield {\n",
              "        response: {\n",
              "          action: 'append',\n",
              "          file: file.name,\n",
              "          data: base64,\n",
              "        },\n",
              "      };\n",
              "\n",
              "      let percentDone = fileData.byteLength === 0 ?\n",
              "          100 :\n",
              "          Math.round((position / fileData.byteLength) * 100);\n",
              "      percent.textContent = `${percentDone}% done`;\n",
              "\n",
              "    } while (position < fileData.byteLength);\n",
              "  }\n",
              "\n",
              "  // All done.\n",
              "  yield {\n",
              "    response: {\n",
              "      action: 'complete',\n",
              "    }\n",
              "  };\n",
              "}\n",
              "\n",
              "scope.google = scope.google || {};\n",
              "scope.google.colab = scope.google.colab || {};\n",
              "scope.google.colab._files = {\n",
              "  _uploadFiles,\n",
              "  _uploadFilesContinue,\n",
              "};\n",
              "})(self);\n",
              "</script> "
            ],
            "text/plain": [
              "<IPython.core.display.HTML object>"
            ]
          },
          "metadata": {},
          "output_type": "display_data"
        },
        {
          "name": "stdout",
          "output_type": "stream",
          "text": [
            "Saving stemmed_dataset.csv to stemmed_dataset.csv\n"
          ]
        }
      ],
      "source": [
        "from google.colab import files\n",
        "import pandas as pd\n",
        "\n",
        "# Upload the file\n",
        "uploaded = files.upload()\n",
        "\n",
        "# Automatically get the uploaded filename\n",
        "filename = next(iter(uploaded))\n",
        "\n",
        "# Read the CSV\n",
        "df = pd.read_csv(filename)\n",
        "\n",
        "# Use the \"text\" column directly since it's already clean\n",
        "df[\"clean_text\"] = df[\"text\"]\n"
      ]
    },
    {
      "cell_type": "markdown",
      "metadata": {},
      "source": [
        "### Tokenization and Label Encoding\n",
        "\n",
        "This step:\n",
        "- Tokenizes Arabic text using `Tokenizer`\n",
        "- Pads sequences to fixed length (100 tokens)\n",
        "- Encodes target labels into numeric format for classification\n"
      ]
    },
    {
      "cell_type": "code",
      "execution_count": null,
      "metadata": {
        "id": "AOp07eTTs1NL"
      },
      "outputs": [],
      "source": [
        "max_words = 10000\n",
        "max_len = 100\n",
        "\n",
        "tokenizer = Tokenizer(num_words=max_words, oov_token=\"<OOV>\")\n",
        "tokenizer.fit_on_texts(df[\"clean_text\"])\n",
        "sequences = tokenizer.texts_to_sequences(df[\"clean_text\"])\n",
        "X = pad_sequences(sequences, maxlen=max_len)\n",
        "\n",
        "# Encode string labels as integers\n",
        "label_to_index = {label: idx for idx, label in enumerate(df[\"label\"].unique())}\n",
        "df[\"label_encoded\"] = df[\"label\"].map(label_to_index)\n",
        "y = df[\"label_encoded\"].values\n"
      ]
    },
    {
      "cell_type": "markdown",
      "metadata": {},
      "source": [
        "### Split Dataset into Train and Test\n",
        "\n",
        "This block splits the dataset using an 80/20 ratio and stratifies the data to ensure balanced label distribution.\n"
      ]
    },
    {
      "cell_type": "code",
      "execution_count": null,
      "metadata": {
        "id": "Xq96_er4s1wr"
      },
      "outputs": [],
      "source": [
        "from sklearn.model_selection import train_test_split\n",
        "\n",
        "# Split and keep indices\n",
        "train_indices, test_indices = train_test_split(\n",
        "    np.arange(len(X)), test_size=0.2, random_state=42, stratify=y)\n",
        "\n",
        "X_train, X_test = X[train_indices], X[test_indices]\n",
        "y_train, y_test = y[train_indices], y[test_indices]"
      ]
    },
    {
      "cell_type": "markdown",
      "metadata": {},
      "source": [
        "### Build LSTM Model\n",
        "\n",
        "The model includes:\n",
        "- `Embedding` layer to learn word representations\n",
        "- `LSTM` layer for sequence learning\n",
        "- `Dropout` to reduce overfitting\n",
        "- `Dense` output layer with `softmax` for multiclass classification\n"
      ]
    },
    {
      "cell_type": "code",
      "execution_count": null,
      "metadata": {
        "colab": {
          "base_uri": "https://localhost:8080/"
        },
        "id": "Ss4sPkWas4B9",
        "outputId": "13961eba-9331-446b-9eb9-61d7464ffbb2"
      },
      "outputs": [
        {
          "name": "stderr",
          "output_type": "stream",
          "text": [
            "/usr/local/lib/python3.11/dist-packages/keras/src/layers/core/embedding.py:90: UserWarning: Argument `input_length` is deprecated. Just remove it.\n",
            "  warnings.warn(\n"
          ]
        }
      ],
      "source": [
        "model = Sequential([\n",
        "    Embedding(input_dim=max_words, output_dim=128, input_length=max_len),\n",
        "    LSTM(64, return_sequences=False),\n",
        "    Dropout(0.5),\n",
        "    Dense(64, activation='relu'),\n",
        "    Dense(len(np.unique(y)), activation='softmax')\n",
        "])\n",
        "\n",
        "model.compile(loss='sparse_categorical_crossentropy',\n",
        "              optimizer='adam',\n",
        "              metrics=['accuracy'])\n"
      ]
    },
    {
      "cell_type": "markdown",
      "metadata": {},
      "source": [
        "### Train the LSTM Model\n",
        "\n",
        "The model is trained for 5 epochs with:\n",
        "- Batch size of 32\n",
        "- 10% of the training data used as validation\n",
        "This helps monitor performance during training and avoid overfitting.\n"
      ]
    },
    {
      "cell_type": "code",
      "execution_count": null,
      "metadata": {
        "colab": {
          "base_uri": "https://localhost:8080/"
        },
        "id": "f-1q85gDs57J",
        "outputId": "da596024-ae93-47f6-eb91-06bb5da02a77"
      },
      "outputs": [
        {
          "name": "stdout",
          "output_type": "stream",
          "text": [
            "Epoch 1/5\n",
            "\u001b[1m411/411\u001b[0m \u001b[32m━━━━━━━━━━━━━━━━━━━━\u001b[0m\u001b[37m\u001b[0m \u001b[1m6s\u001b[0m 11ms/step - accuracy: 0.4492 - loss: 1.3142 - val_accuracy: 0.7317 - val_loss: 0.6719\n",
            "Epoch 2/5\n",
            "\u001b[1m411/411\u001b[0m \u001b[32m━━━━━━━━━━━━━━━━━━━━\u001b[0m\u001b[37m\u001b[0m \u001b[1m5s\u001b[0m 10ms/step - accuracy: 0.8311 - loss: 0.5160 - val_accuracy: 0.8453 - val_loss: 0.4496\n",
            "Epoch 3/5\n",
            "\u001b[1m411/411\u001b[0m \u001b[32m━━━━━━━━━━━━━━━━━━━━\u001b[0m\u001b[37m\u001b[0m \u001b[1m3s\u001b[0m 8ms/step - accuracy: 0.9044 - loss: 0.3209 - val_accuracy: 0.8597 - val_loss: 0.4260\n",
            "Epoch 4/5\n",
            "\u001b[1m411/411\u001b[0m \u001b[32m━━━━━━━━━━━━━━━━━━━━\u001b[0m\u001b[37m\u001b[0m \u001b[1m3s\u001b[0m 8ms/step - accuracy: 0.9283 - loss: 0.2453 - val_accuracy: 0.8604 - val_loss: 0.4564\n",
            "Epoch 5/5\n",
            "\u001b[1m411/411\u001b[0m \u001b[32m━━━━━━━━━━━━━━━━━━━━\u001b[0m\u001b[37m\u001b[0m \u001b[1m4s\u001b[0m 9ms/step - accuracy: 0.9500 - loss: 0.1750 - val_accuracy: 0.8494 - val_loss: 0.5282\n"
          ]
        }
      ],
      "source": [
        "history = model.fit(X_train, y_train,\n",
        "                    epochs=5,\n",
        "                    batch_size=32,\n",
        "                    validation_split=0.1)\n"
      ]
    },
    {
      "cell_type": "markdown",
      "metadata": {},
      "source": [
        "### Evaluate Model with Classification Report\n",
        "\n",
        "This cell:\n",
        "- Uses the trained model to predict test set labels\n",
        "- Decodes numeric predictions back to string labels\n",
        "- Prints a classification report including precision, recall, and F1-score for each class\n"
      ]
    },
    {
      "cell_type": "code",
      "execution_count": null,
      "metadata": {
        "colab": {
          "base_uri": "https://localhost:8080/"
        },
        "id": "e0VpCfTIs70f",
        "outputId": "36814a41-16dd-4036-a4c6-e3a0f22b8f33"
      },
      "outputs": [
        {
          "name": "stdout",
          "output_type": "stream",
          "text": [
            "\u001b[1m115/115\u001b[0m \u001b[32m━━━━━━━━━━━━━━━━━━━━\u001b[0m\u001b[37m\u001b[0m \u001b[1m1s\u001b[0m 5ms/step\n",
            "               precision    recall  f1-score   support\n",
            "\n",
            "      culture       0.85      0.73      0.79       499\n",
            "      economy       0.75      0.85      0.80       653\n",
            "international       0.92      0.76      0.83       338\n",
            "        local       0.70      0.75      0.72       648\n",
            "     religion       0.96      0.97      0.96       695\n",
            "       sports       0.98      0.95      0.97       819\n",
            "\n",
            "     accuracy                           0.85      3652\n",
            "    macro avg       0.86      0.84      0.85      3652\n",
            " weighted avg       0.86      0.85      0.86      3652\n",
            "\n"
          ]
        }
      ],
      "source": [
        "y_pred = np.argmax(model.predict(X_test), axis=1)\n",
        "index_to_label = {v: k for k, v in label_to_index.items()}\n",
        "print(classification_report(y_test, y_pred, target_names=index_to_label.values()))\n"
      ]
    },
    {
      "cell_type": "markdown",
      "metadata": {},
      "source": [
        "### Display Sample Wrong Predictions\n",
        "\n",
        "Displays examples where the model misclassified the input.  \n",
        "Helps analyze common errors and model limitations.\n"
      ]
    },
    {
      "cell_type": "code",
      "execution_count": null,
      "metadata": {
        "colab": {
          "base_uri": "https://localhost:8080/"
        },
        "id": "Mf-gOrj0HlvA",
        "outputId": "909981f9-2bcf-439b-ac8b-ac456b57d77f"
      },
      "outputs": [
        {
          "name": "stdout",
          "output_type": "stream",
          "text": [
            "\n",
            "Examples of wrong predictions:\n",
            "\n",
            "Text (truncated): صلل وطن اقم فرق وعي بشر صلل خدم صرف صحي ندة عرف شرع صرف صحي صلل وذل درس خول بنت حكم علم عام صبح يوم ...\n",
            "True label: economy\n",
            "Predicted label: local\n",
            "\n",
            "Text (truncated): برء من اجد حرز قبل دكتور حسن بن سعد كشب عمد كلة برء رحل ونس رضا حاج حمد الذي زار كلة صبح امس وتأ هذه...\n",
            "True label: sports\n",
            "Predicted label: local\n",
            "\n",
            "Text (truncated): قعد بين ما هي همي درس ونع درس عتبرم اسس عمل و لها هدف مهم وهم انه تبن قعد بين يمكن عليها وضع خطة راد...\n",
            "True label: local\n",
            "Predicted label: economy\n",
            "\n",
            "Text (truncated): هيماء من خلف بن صلح درع عقد نصر بن عبدالل عبر دير درة ربي علم نطق سطى ؤخر جمع ثني دير درس نطق لهذا ع...\n",
            "True label: local\n",
            "Predicted label: local\n",
            "\n",
            "Text (truncated): كتب سلم رحب عرض فرق زون سرح خلل شرك في دور ربع هرج دلف سرح جمع ارد سرح حقق والتي الف عمد شنفر خرج وس...\n",
            "True label: culture\n",
            "Predicted label: local\n",
            "\n"
          ]
        }
      ],
      "source": [
        "print(\"\\nExamples of wrong predictions:\\n\")\n",
        "wrong_indices = np.where(y_pred != y_test)[0]\n",
        "for i in wrong_indices[:5]:\n",
        "    original_idx = test_indices[i]\n",
        "    true_label = index_to_label[y_test[i]]\n",
        "    pred_label = index_to_label[y_pred[i]]\n",
        "    text_sample = df.loc[original_idx, \"clean_text\"]\n",
        "    print(f\"Text (truncated): {text_sample[:100]}...\")\n",
        "    print(f\"True label: {true_label}\")\n",
        "    print(f\"Predicted label: {pred_label}\\n\")\n"
      ]
    },
    {
      "cell_type": "markdown",
      "metadata": {},
      "source": [
        "## Conclusion\n",
        "\n",
        "This task demonstrated a deep learning approach to Arabic text classification using an LSTM model.  \n",
        "Key observations:\n",
        "\n",
        "- The LSTM network was able to capture sequence-based features in Arabic texts.\n",
        "- Performance was reasonable, though slightly below that of transformer-based models like AraBERT.\n",
        "- The model remains simpler and lighter, which can be beneficial in low-resource environments.\n",
        "\n",
        "\n"
      ]
    }
  ],
  "metadata": {
    "accelerator": "GPU",
    "colab": {
      "gpuType": "T4",
      "provenance": []
    },
    "kernelspec": {
      "display_name": "Python 3",
      "name": "python3"
    },
    "language_info": {
      "name": "python"
    }
  },
  "nbformat": 4,
  "nbformat_minor": 0
}
